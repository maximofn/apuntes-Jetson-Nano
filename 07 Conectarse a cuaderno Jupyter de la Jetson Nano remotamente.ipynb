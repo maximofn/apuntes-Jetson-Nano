{
  "cells": [
    {
      "cell_type": "markdown",
      "source": [
        "# Conectarse a cuaderno Jupyter de la Jetson Nano remotamente"
      ],
      "metadata": {}
    },
    {
      "cell_type": "markdown",
      "source": [
        "--------------"
      ],
      "metadata": {}
    },
    {
      "cell_type": "markdown",
      "source": [
        "## Instalar Jupyter notebook"
      ],
      "metadata": {}
    },
    {
      "cell_type": "markdown",
      "source": [
        "Esto me ha dado problemas, he probado muchas cosas, así que puede que lo siguiente no funcione y haya que probar otra cosa"
      ],
      "metadata": {}
    },
    {
      "cell_type": "markdown",
      "source": [
        "`$ sudo pip3 install jupyter`"
      ],
      "metadata": {}
    },
    {
      "cell_type": "markdown",
      "source": [
        "--------------"
      ],
      "metadata": {}
    },
    {
      "cell_type": "markdown",
      "source": [
        "## Ejecutar Jupyter notebook (local)"
      ],
      "metadata": {}
    },
    {
      "cell_type": "markdown",
      "source": [
        "Ejecutar el siguiente comando\r\n",
        "\r\n",
        "`$ jupyter-notebook`"
      ],
      "metadata": {}
    },
    {
      "cell_type": "markdown",
      "source": [
        "--------------"
      ],
      "metadata": {}
    },
    {
      "cell_type": "markdown",
      "source": [
        "## Crear archivo de configuración"
      ],
      "metadata": {}
    },
    {
      "cell_type": "markdown",
      "source": [
        "Ejecutar el comando \r\n",
        "\r\n",
        "`$ jupyter-notebook --generate-config`\r\n",
        "\r\n",
        "Esto creará el archivo /home/expace/.jupyter/jupyter_notebook_config.py"
      ],
      "metadata": {}
    },
    {
      "cell_type": "markdown",
      "source": [
        "--------------"
      ],
      "metadata": {}
    },
    {
      "cell_type": "markdown",
      "source": [
        "## Abrir cuaderno Jupyter de forma remota"
      ],
      "metadata": {}
    },
    {
      "cell_type": "markdown",
      "source": [
        "Conectarse con la jetson con el siguiente comando\r\n",
        "\r\n",
        "`$ ssh -L 8000:localhost:8888 <user>@<IP>`\r\n",
        "\r\n",
        "En mi caso como el usuario es expace y la IP 192.168.1.40, introduzco\r\n",
        "\r\n",
        "`ssh -L 8000:localhost:8888 expace@192.168.1.40`"
      ],
      "metadata": {}
    },
    {
      "cell_type": "markdown",
      "source": [
        "Ejecutar jupyter-notebook mediante el siguiente comando\r\n",
        "\r\n",
        "`$ jupyter-notebook`\r\n",
        "\r\n",
        "Esto generará una salida que indicará el token\r\n",
        "\r\n",
        "```\r\n",
        "[I 09:22:57.331 NotebookApp] Serving notebooks from local directory: /home/expace\r\n",
        "[I 09:22:57.331 NotebookApp] Jupyter Notebook 6.4.4 is running at:\r\n",
        "[I 09:22:57.331 NotebookApp] http://localhost:8888/?token=84db30350c7830eeee550dffd01fa4ac765107e790e7707c\r\n",
        "[I 09:22:57.331 NotebookApp]  or http://127.0.0.1:8888/?token=84db30350c7830eeee550dffd01fa4ac765107e790e7707c\r\n",
        "[I 09:22:57.331 NotebookApp] Use Control-C to stop this server and shut down all kernels (twice to skip confirmation).\r\n",
        "[W 09:22:57.348 NotebookApp] No web browser found: could not locate runnable browser.\r\n",
        "[C 09:22:57.349 NotebookApp]\r\n",
        "\r\n",
        "    To access the notebook, open this file in a browser:\r\n",
        "        file:///home/expace/.local/share/jupyter/runtime/nbserver-13083-open.html\r\n",
        "    Or copy and paste one of these URLs:\r\n",
        "        http://localhost:8888/?token=84db30350c7830eeee550dffd01fa4ac765107e790e7707c\r\n",
        "     or http://127.0.0.1:8888/?token=84db30350c7830eeee550dffd01fa4ac765107e790e7707c\r\n",
        "```\r\n",
        "\r\n",
        "Se puede ver en las dos últimas líneas que indica el token"
      ],
      "metadata": {}
    },
    {
      "cell_type": "markdown",
      "source": [
        "Abrir en un navegador el siguiente enlace\r\n",
        "\r\n",
        "`http://localhost:8000`"
      ],
      "metadata": {}
    },
    {
      "cell_type": "markdown",
      "source": [
        "Si es la primera vez que se conecta remotamente dará la oportunidad de crear un password mediante el token, introducir el token y el password que se quiere crear. Las siguientes veces que se conecte pedirá solo el password"
      ],
      "metadata": {}
    }
  ],
  "metadata": {
    "kernelspec": {
      "name": "python3",
      "display_name": "Python 3.8.11 64-bit ('base': conda)"
    },
    "language_info": {
      "name": "python",
      "version": "3.8.11",
      "mimetype": "text/x-python",
      "codemirror_mode": {
        "name": "ipython",
        "version": 3
      },
      "pygments_lexer": "ipython3",
      "nbconvert_exporter": "python",
      "file_extension": ".py"
    },
    "interpreter": {
      "hash": "d1c24abb23a313e1f9ae042292cd8e6e3c60c5818227ced3d46e3df2c65171ef"
    }
  },
  "nbformat": 4,
  "nbformat_minor": 2
}