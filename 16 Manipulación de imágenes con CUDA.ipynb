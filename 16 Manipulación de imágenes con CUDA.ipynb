{
  "cells": [
    {
      "cell_type": "markdown",
      "metadata": {},
      "source": [
        "# Manipulación de imágenes con CUDA"
      ]
    },
    {
      "cell_type": "markdown",
      "metadata": {},
      "source": [
        "[`cuda-examples.py`](https://github.com/dusty-nv/jetson-utils/tree/master/python/examples/cuda-examples.py)"
      ]
    },
    {
      "cell_type": "markdown",
      "metadata": {},
      "source": [
        "--------------"
      ]
    },
    {
      "cell_type": "markdown",
      "metadata": {},
      "source": [
        "## Gestión de imágenes"
      ]
    },
    {
      "cell_type": "markdown",
      "metadata": {},
      "source": [
        "### Formatos de imágenes"
      ]
    },
    {
      "cell_type": "markdown",
      "metadata": {},
      "source": [
        "Aunque las API de transmisión de video y los objetos DNN (como imageNet, detectNet y segNet) esperan imágenes en formato RGB/RGBA, se definen una variedad de otros formatos para la adquisición de sensores y E/S de bajo nivel:"
      ]
    },
    {
      "cell_type": "markdown",
      "metadata": {},
      "source": [
        "|Format string|[`imageFormat` enum](https://rawgit.com/dusty-nv/jetson-inference/dev/docs/html/group__imageFormat.html#ga931c48e08f361637d093355d64583406)|Data Type|Bit Depth|\n",
        "|---|---|---|---|\n",
        "|**RGB/RGBA**|rgb8|IMAGE_RGB8|uchar3|24|\n",
        "| |rgba8|IMAGE_RGBA8|uchar4|32|\n",
        "| |rgb32f|IMAGE_RGB32F|float3|96|\n",
        "| |rgba32f|IMAGE_RGBA32F|float4|128|\n",
        "|**BGR/BGRA**|bgr8|IMAGE_BGR8|uchar3|24|\n",
        "| |bgra8|IMAGE_BGRA8|uchar4|32|\n",
        "| |bgr32f|IMAGE_BGR32F|float3|96|\n",
        "| |bgra32f|IMAGE_BGRA32F|float4|128|\n",
        "|**YUV (4:2:2)**|yuyv|IMAGE_YUYV|uint8|16|\n",
        "| |yuy2|IMAGE_YUY2|uint8|16|\n",
        "| |yvyu|IMAGE_YVYU|uint8|16|\n",
        "| |uyvy|IMAGE_UYVY|uint8|16|\n",
        "|**YUV (4:2:0)**|i420|IMAGE_I420|uint8|12|\n",
        "| |yv12\tIMAGE_YV12|uint8|12|\n",
        "| |nv12\tIMAGE_NV12|uint8|12|\n",
        "|**Bayer**|bayer-bggr|IMAGE_BAYER_BGGR|uint8|8|\n",
        "| |bayer-gbrg|IMAGE_BAYER_GBRG|uint8|8|\n",
        "| |bayer-grbg|IMAGE_BAYER_GRBG|uint8|8|\n",
        "| |bayer-rggb|IMAGE_BAYER_RGGB|uint8|8|\n",
        "|**Grayscale**|gray8|IMAGE_GRAY8|uint8|8|\n",
        "| |gray32f|IMAGE_GRAY32F|float|32|\n",
        "\n",
        " * Bit Depth representa el número efectivo de bits por píxel\n",
        " * Para obtener especificaciones detalladas de los formatos YUV, consulte [fourcc.org](https://www.fourcc.org/yuv.php)\n",
        "\n",
        "> **nota:** en C ++, los formatos RGB/RGBA son los únicos que deben usarse con los tipos de vector `uchar3`/`uchar4`/`float3`/`float4`. Se supone que cuando se utilizan estos tipos, las imágenes están en formato RGB/RGBA.\n",
        "\n",
        "Para convertir imágenes entre formatos de datos y/o espacios de color, consulte la sección Conversión de color a continuación."
      ]
    },
    {
      "cell_type": "markdown",
      "metadata": {},
      "source": [
        "### Asignación de imágenes"
      ]
    },
    {
      "cell_type": "markdown",
      "metadata": {},
      "source": [
        "Para asignar memoria de GPU vacía para almacenar imágenes intermedias / de salida (es decir, memoria de trabajo durante el procesamiento), use una de las funciones `cudaAllocMapped()` de C++ o Python. Tenga en cuenta que los flujos `videoSource` de entrada asignan automáticamente su propia memoria de GPU y le devuelven la última imagen, por lo que no necesita asignar su propia memoria para esos.\n",
        "\n",
        "La memoria asignada por `cudaAllocMapped()` reside en un espacio de memoria compartida de CPU/GPU, por lo que es accesible tanto desde la CPU como desde la GPU sin necesidad de realizar una copia de memoria entre ellas (por lo tanto, también se conoce como memoria ZeroCopy).\n",
        "\n",
        "Sin embargo, se requiere sincronización, por lo que si desea acceder a una imagen desde la CPU después de que se haya producido el procesamiento de la GPU, llame `cudaDeviceSynchronize()` primero. Para liberar la memoria en C++, use la función `cudaFreeHost()`. En Python, el recolector de basura liberará automáticamente la memoria, pero puede liberarla explícitamente con el operador `del`.\n",
        "\n",
        "A continuación se muestra el pseudocódigo de Python y C++ para asignar/sincronizar/liberar la memoria ZeroCopy:"
      ]
    },
    {
      "cell_type": "markdown",
      "metadata": {},
      "source": [
        "**Python**\n",
        "\n",
        "```python\n",
        "import jetson.utils\n",
        "\n",
        "# allocate a 1920x1080 image in rgb8 format\n",
        "img = jetson.utils.cudaAllocMapped(width=1920, height=1080, format='rgb8')\n",
        "\n",
        "# do some processing on the GPU here\n",
        "...\n",
        "\n",
        "# wait for the GPU to finish processing\n",
        "jetson.utils.cudaDeviceSynchronize()\n",
        "\n",
        "# Python will automatically free the memory, but you can explicitly do it with 'del'\n",
        "del img\n",
        "```"
      ]
    },
    {
      "cell_type": "markdown",
      "metadata": {},
      "source": [
        "**C++**\n",
        "\n",
        "```cpp\n",
        "#include <jetson-utils/cudaMappedMemory.h>\n",
        "\n",
        "void* img = NULL;\n",
        "\n",
        "// allocate a 1920x1080 image in rgb8 format\n",
        "if( !cudaAllocMapped(&img, 1920, 1080, IMAGE_RGB8) )\n",
        "\treturn false;\t// memory error\n",
        "\n",
        "// do some processing on the GPU here \n",
        "...\n",
        "\n",
        "// wait for the GPU to finish processing\n",
        "CUDA(cudaDeviceSynchronize());\n",
        "\n",
        "// release the memory\n",
        "CUDA(cudaFreeHost(img));\n",
        "```"
      ]
    },
    {
      "cell_type": "markdown",
      "metadata": {},
      "source": [
        "En C++, a menudo puede omitir la enumeración `imageFormat` explícita si sus punteros se escriben como `uchar3`/`uchar4`/`float3`/`float4`. A continuación se muestra funcionalmente equivalente a la asignación anterior:\n",
        "\n",
        "```cpp\n",
        "uchar3* img = NULL;\t// can be uchar3 (rgb8), uchar4 (rgba8), float3 (rgb32f), float4 (rgba32f)\n",
        "\n",
        "if( !cudaAllocMapped(&img, 1920, 1080) )\n",
        "\treturn false;\t\n",
        "```"
      ]
    },
    {
      "cell_type": "markdown",
      "metadata": {},
      "source": [
        " > **nota**: al usar estos tipos de vectores, se asumirá que estas imágenes están en su respectivo espacio de color RGB/RGBA. Entonces, si usa `uchar3`/`uchar4`/`float3`/`float4` para representar una imagen que contiene datos BGR/BGRA, algunas funciones de procesamiento podrían interpretarla como RGB/RGBA a menos que especifique explícitamente el formato de imagen adecuado."
      ]
    },
    {
      "cell_type": "markdown",
      "metadata": {},
      "source": [
        "### Copiar imágenes"
      ]
    },
    {
      "cell_type": "markdown",
      "metadata": {},
      "source": [
        "`cudaMemcpy()` se puede utilizar para copiar la memoria entre imágenes del mismo formato y dimensiones. `cudaMemcpy()` es una función CUDA estándar en C++, y hay una versión similar para Python en la biblioteca 'jetson.utils':"
      ]
    },
    {
      "cell_type": "markdown",
      "metadata": {},
      "source": [
        "**Python**\n",
        "\n",
        "```python\n",
        "import jetson.utils\n",
        "\n",
        "# load an image and allocate memory to copy it to\n",
        "img_a = jetson.utils.loadImage(\"my_image.jpg\")\n",
        "img_b = jetson.utils.cudaAllocMapped(width=img_a.width, height=img_a.height, format=img_a.format)\n",
        "\n",
        "# copy the image (dst, src)\n",
        "jetson.utils.cudaMemcpy(img_b, img_a)\n",
        "\n",
        "# or you can use this shortcut, which will make a duplicate\n",
        "img_c = jetson.utils.cudaMemcpy(img_a)\n",
        "```"
      ]
    },
    {
      "cell_type": "markdown",
      "metadata": {},
      "source": [
        "**C++**\n",
        "\n",
        "```cpp\n",
        "#include <jetson-utils/cudaMappedMemory.h>\n",
        "#include <jetson-utils/imageIO.h>\n",
        "\n",
        "uchar3* img_a = NULL;\n",
        "uchar3* img_b = NULL;\n",
        "\n",
        "int width = 0;\n",
        "int height = 0;\n",
        "\n",
        "// load example image\n",
        "if( !loadImage(\"my_image.jpg\", &img_a, &width, &height) )\n",
        "\treturn false;\t// loading error\n",
        "\t\n",
        "// allocate memory to copy it to\n",
        "if( !cudaAllocMapped(&img_b, width, height) )\n",
        "\treturn false;  // memory error\n",
        "\t\n",
        "// copy the image (dst, src)\n",
        "if( CUDA_FAILED(cudaMemcpy(img_b, img_a, width * height * sizeof(uchar3), cudaMemcpyDeviceToDevice)) )\n",
        "\treturn false;  // memcpy error\n",
        "```"
      ]
    },
    {
      "cell_type": "markdown",
      "metadata": {},
      "source": [
        "### Cápsulas de Python"
      ]
    },
    {
      "cell_type": "markdown",
      "metadata": {},
      "source": [
        "Cuando asigna una imagen en Python, o captura una imagen de un video con `videoSource.Capture()`, devolverá un objeto de cápsula de memoria autónomo (de tipo `<jetson.utils.cudaImage>`) que se puede pasar sin tener que copiar la memoria subyacente. El objeto `cudaImage` tiene los siguientes miembros:\n",
        "\n",
        "```\n",
        "<jetson.utils.cudaImage>\n",
        "  .ptr      # memory address (not typically used)\n",
        "  .size     # size in bytes\n",
        "  .shape    # (height,width,channels) tuple\n",
        "  .width    # width in pixels\n",
        "  .height   # height in pixels\n",
        "  .channels # number of color channels\n",
        "  .format   # format string\n",
        "  .mapped   # true if ZeroCopy\n",
        "```"
      ]
    },
    {
      "cell_type": "markdown",
      "metadata": {},
      "source": [
        "Para que pueda hacer cosas como `img.width` y `img.height` para acceder a las propiedades de la imagen."
      ]
    },
    {
      "cell_type": "markdown",
      "metadata": {},
      "source": [
        "#### Accediendo a datos de imagen en Python"
      ]
    },
    {
      "cell_type": "markdown",
      "metadata": {},
      "source": [
        "Las imágenes CUDA también son subcriptables, lo que significa que puede indexarlas para acceder directamente a los datos de píxeles desde la CPU:"
      ]
    },
    {
      "cell_type": "markdown",
      "metadata": {},
      "source": [
        "```python\n",
        "for y in range(img.height):\n",
        "\tfor x in range(img.width):\n",
        "\t\tpixel = img[y,x]    # returns a tuple, i.e. (r,g,b) for RGB formats or (r,g,b,a) for RGBA formats\n",
        "\t\timg[y,x] = pixel    # set a pixel from a tuple (tuple length must match the number of channels)\n",
        "```"
      ]
    },
    {
      "cell_type": "markdown",
      "metadata": {},
      "source": [
        " > **nota**: el operador de índice de Python solo está disponible si la imagen se asignó en la memoria ZeroCopy asignada (es decir, por `cudaAllocMapped()`). De lo contrario, no se puede acceder a los datos desde la CPU y se lanzará una excepción."
      ]
    },
    {
      "cell_type": "markdown",
      "metadata": {},
      "source": [
        "La tupla de indexación utilizada para acceder a una imagen puede adoptar las siguientes formas:\n",
        "\n",
        " * img[y,x]- tenga en cuenta el orden de la tupla es `(y,x)`, igual que numpy\n",
        " * img[y,x,channel] - solo acceda a un canal en particular (es decir, 0 para rojo, 1 para verde, 2 para azul, 3 para alfa)\n",
        " * img[y*img.width+x] - índice 1D plano, accede a todos los canales en ese píxel\n",
        "\n",
        "Aunque se admite el subíndice de imágenes, no se recomienda acceder individualmente a cada píxel de una imagen grande desde Python, ya que ralentizará significativamente la aplicación. Suponiendo que no esté disponible una implementación de GPU, una mejor alternativa es usar Numpy."
      ]
    },
    {
      "cell_type": "markdown",
      "metadata": {},
      "source": [
        "#### Conversión a matrices de Numpy"
      ]
    },
    {
      "cell_type": "markdown",
      "metadata": {},
      "source": [
        "Puede acceder a una cápsula `cudaImage` de memoria de Numpy llamándola primero `jetson.utils.cudaToNumpy()`. La memoria subyacente no se copia y Numpy accederá a ella directamente, así que tenga en cuenta que si cambia los datos en el lugar a través de Numpy, también se cambiarán en la cápsula `cudaImage`.\n",
        "\n",
        "Para ver un ejemplo de uso `cudaToNumpy()`, vea el ejemplo [cuda-to-numpy.py](https://github.com/dusty-nv/jetson-utils/blob/master/python/examples/cuda-to-numpy.py) de jetson-utils.\n",
        "\n",
        "Tenga en cuenta que OpenCV espera imágenes en el espacio de color BGR, por lo que si planea usar la imagen con OpenCV, debe llamar `cv2.cvtColor()` con `cv2.COLOR_RGB2BGR` antes de usarla en OpenCV."
      ]
    },
    {
      "cell_type": "markdown",
      "metadata": {},
      "source": [
        "#### Conversión desde matrices de Numpy"
      ]
    },
    {
      "cell_type": "markdown",
      "metadata": {},
      "source": [
        "Digamos que tiene una imagen en un ndarray de Numpy, quizás proporcionado por OpenCV. Como una matriz Numpy, solo será accesible desde la CPU. Puede usarlo `jetson.utils.cudaFromNumpy()` para copiarlo en la GPU (en la memoria compartida CPU/GPU ZeroCopy).\n",
        "\n",
        "Para ver un ejemplo de uso `cudaFromNumpy()`, vea el ejemplo [cuda-from-numpy.py](https://github.com/dusty-nv/jetson-utils/blob/master/python/examples/cuda-from-numpy.py) de jetson-utils.\n",
        "\n",
        "Tenga en cuenta que las imágenes de OpenCV están en el espacio de color BGR, por lo que si la imagen proviene de OpenCV, primero debe llamar `cv2.cvtColor()` con `cv2.COLOR_BGR2RGB`."
      ]
    },
    {
      "cell_type": "markdown",
      "metadata": {},
      "source": [
        "--------------"
      ]
    },
    {
      "cell_type": "markdown",
      "metadata": {},
      "source": [
        "## Rutinas CUDA"
      ]
    },
    {
      "cell_type": "markdown",
      "metadata": {},
      "source": [
        "### Conversión de color (Color Conversion)"
      ]
    },
    {
      "cell_type": "markdown",
      "metadata": {},
      "source": [
        "La función `cudaConvertColor()` usa la GPU para convertir entre formatos de imagen y espacios de color. Por ejemplo, puede convertir de RGB a BGR (o viceversa), de YUV a RGB, de RGB a escala de grises, etc. También puede cambiar el tipo de datos y el número de canales (por ejemplo, RGB8 a RGBA32F). Para obtener más información sobre los diferentes formatos disponibles para convertir, consulte la sección Formatos de imagen anterior.\n",
        "\n",
        "`cudaConvertColor()` tiene las siguientes limitaciones y conversiones no admitidas:\n",
        "\n",
        " * Los formatos YUV no admiten BGR/BGRA o escala de grises (solo RGB/RGBA)\n",
        " * YUV NV12, YUYV, YVYU y UYVY solo se pueden convertir a RGB/RGBA (no desde)\n",
        " * Los formatos Bayer solo se pueden convertir a RGB8 (uchar3) y RGBA8 (uchar4)\n",
        "\n",
        "El siguiente psuedocódigo de Python/C ++ carga una imagen en RGB8 y la convierte a RGBA32F (tenga en cuenta que esto es puramente ilustrativo, ya que la imagen se puede cargar directamente como RGBA32F). Para obtener un ejemplo más completo, consulte [cuda-examples.py](https://github.com/dusty-nv/jetson-utils/blob/master/python/examples/cuda-examples.py)."
      ]
    },
    {
      "cell_type": "markdown",
      "metadata": {},
      "source": [
        "**Python**\n",
        "\n",
        "```python\n",
        "import jetson.utils\n",
        "\n",
        "# load the input image (default format is rgb8)\n",
        "imgInput = jetson.utils.loadImage('my_image.jpg', format='rgb8') # default format is 'rgb8', but can also be 'rgba8', 'rgb32f', 'rgba32f'\n",
        "\n",
        "# allocate the output as rgba32f, with the same width/height as the input\n",
        "imgOutput = jetson.utils.cudaAllocMapped(width=imgInput.width, height=imgInput.height, format='rgba32f')\n",
        "\n",
        "# convert from rgb8 to rgba32f (the formats used for the conversion are taken from the image capsules)\n",
        "jetson.utils.cudaConvertColor(imgInput, imgOutput)\n",
        "```"
      ]
    },
    {
      "cell_type": "markdown",
      "metadata": {},
      "source": [
        "**C++**\n",
        "\n",
        "```cpp\n",
        "#include <jetson-utils/cudaColorspace.h>\n",
        "#include <jetson-utils/cudaMappedMemory.h>\n",
        "#include <jetson-utils/imageIO.h>\n",
        "\n",
        "uchar3* imgInput = NULL;   // input is rgb8 (uchar3)\n",
        "float4* imgOutput = NULL;  // output is rgba32f (float4)\n",
        "\n",
        "int width = 0;\n",
        "int height = 0;\n",
        "\n",
        "// load the image as rgb8 (uchar3)\n",
        "if( !loadImage(\"my_image.jpg\", &imgInput, &width, &height) )\n",
        "\treturn false;\n",
        "\n",
        "// allocate the output as rgba32f (float4), with the same width/height\n",
        "if( !cudaAllocMapped(&imgOutput, width, height) )\n",
        "\treturn false;\n",
        "\n",
        "// convert from rgb8 to rgba32f\n",
        "if( CUDA_FAILED(cudaConvertColor(imgInput, IMAGE_RGB8, imgOutput, IMAGE_RGBA32F, width, height)) )\n",
        "\treturn false;\t// an error or unsupported conversion occurred\n",
        "```"
      ]
    },
    {
      "cell_type": "markdown",
      "metadata": {},
      "source": [
        "### Cambiar el tamaño (Resizing)"
      ]
    },
    {
      "cell_type": "markdown",
      "metadata": {},
      "source": [
        "La función `cudaResize()` usa la GPU para cambiar la escala de las imágenes a un tamaño diferente (ya sea submuestreado [downsampled] o sobremuestreado [upsampled]). El siguiente psuedocode de Python/C++ carga una imagen y la redimensiona por un factor determinado (reducido a la mitad en el ejemplo). Para obtener un ejemplo más completo, consulte [cuda-examples.py](https://github.com/dusty-nv/jetson-utils/blob/master/python/examples/cuda-examples.py)."
      ]
    },
    {
      "cell_type": "markdown",
      "metadata": {},
      "source": [
        "**Python**\n",
        "\n",
        "```python\n",
        "import jetson.utils\n",
        "\n",
        "# load the input image\n",
        "imgInput = jetson.utils.loadImage('my_image.jpg')\n",
        "\n",
        "# allocate the output, with half the size of the input\n",
        "imgOutput = jetson.utils.cudaAllocMapped(width=imgInput.width * 0.5, \n",
        "                                         height=imgInput.height * 0.5, \n",
        "                                         format=imgInput.format)\n",
        "\n",
        "# rescale the image (the dimensions are taken from the image capsules)\n",
        "jetson.utils.cudaResize(imgInput, imgOutput)\n",
        "```"
      ]
    },
    {
      "cell_type": "markdown",
      "metadata": {},
      "source": [
        "**C++**\n",
        "\n",
        "```cpp\n",
        "#include <jetson-utils/cudaResize.h>\n",
        "#include <jetson-utils/cudaMappedMemory.h>\n",
        "#include <jetson-utils/imageIO.h>\n",
        "\n",
        "// load the input image\n",
        "uchar3* imgInput = NULL;\n",
        "\n",
        "int inputWidth = 0;\n",
        "int inputHeight = 0;\n",
        "\n",
        "if( !loadImage(\"my_image.jpg\", &imgInput, &inputWidth, &inputHeight) )\n",
        "\treturn false;\n",
        "\n",
        "// allocate the output image, with half the size of the input\n",
        "uchar3* imgOutput = NULL;\n",
        "\n",
        "int outputWidth = inputWidth * 0.5f;\n",
        "int outputHeight = inputHeight * 0.5f;\n",
        "\n",
        "if( !cudaAllocMapped(&imgOutput, outputWidth, outputHeight) )\n",
        "\treturn false;\n",
        "\n",
        "// rescale the image\n",
        "if( CUDA_FAILED(cudaResize(imgInput, inputWidth, inputHeight, imgOutput, outputWidth, outputHeight)) )\n",
        "\treturn false;\n",
        "```"
      ]
    },
    {
      "cell_type": "markdown",
      "metadata": {},
      "source": [
        "### Recortar (Cropping)"
      ]
    },
    {
      "cell_type": "markdown",
      "metadata": {},
      "source": [
        "La función `cudaCrop()` usa la GPU para recortar imágenes a una región de interés particular (ROI). El siguiente psuedocódigo de Python/C ++ carga una imagen y la recorta alrededor de la mitad central de la imagen. Para obtener un ejemplo más completo, consulte [cuda-examples.py](https://github.com/dusty-nv/jetson-utils/blob/master/python/examples/cuda-examples.py).\n",
        "\n",
        "Tenga en cuenta que los rectángulos de ROI se proporcionan como coordenadas (left, top, right, bottom)."
      ]
    },
    {
      "cell_type": "markdown",
      "metadata": {},
      "source": [
        "**Python**\n",
        "\n",
        "```python\n",
        "import jetson.utils\n",
        "\n",
        "# load the input image\n",
        "imgInput = jetson.utils.loadImage('my_image.jpg')\n",
        "\n",
        "# determine the amount of border pixels (cropping around the center by half)\n",
        "crop_factor = 0.5\n",
        "crop_border = ((1.0 - crop_factor) * 0.5 * imgInput.width,\n",
        "               (1.0 - crop_factor) * 0.5 * imgInput.height)\n",
        "\n",
        "# compute the ROI as (left, top, right, bottom)\n",
        "crop_roi = (crop_border[0], crop_border[1], imgInput.width - crop_border[0], imgInput.height - crop_border[1])\n",
        "\n",
        "# allocate the output image, with the cropped size\n",
        "imgOutput = jetson.utils.cudaAllocMapped(width=imgInput.width * crop_factor,\n",
        "                                         height=imgInput.height * crop_factor,\n",
        "                                         format=imgInput.format)\n",
        "\n",
        "# crop the image to the ROI\n",
        "jetson.utils.cudaCrop(imgInput, imgOutput, crop_roi)\n",
        "```"
      ]
    },
    {
      "cell_type": "markdown",
      "metadata": {},
      "source": [
        "**C++**\n",
        "\n",
        "```cpp\n",
        "#include <jetson-utils/cudaCrop.h>\n",
        "#include <jetson-utils/cudaMappedMemory.h>\n",
        "#include <jetson-utils/imageIO.h>\n",
        "\n",
        "// load the input image\n",
        "uchar3* imgInput = NULL;\n",
        "\n",
        "int inputWidth = 0;\n",
        "int inputHeight = 0;\n",
        "\n",
        "if( !loadImage(\"my_image.jpg\", &imgInput, &inputWidth, &inputHeight) )\n",
        "\treturn false;\n",
        "\n",
        "// determine the amount of border pixels (cropping around the center by half)\n",
        "const float crop_factor = 0.5\n",
        "const int2  crop_border = make_int2((1.0f - crop_factor) * 0.5f * inputWidth,\n",
        "                                    (1.0f - crop_factor) * 0.5f * inputHeight);\n",
        "\n",
        "// compute the ROI as (left, top, right, bottom)\n",
        "const int4 crop_roi = make_int4(crop_border.x, crop_border.y, inputWidth - crop_border.x, inputHeight - crop_border.y);\n",
        "\n",
        "// allocate the output image, with half the size of the input\n",
        "uchar3* imgOutput = NULL;\n",
        "\n",
        "if( !cudaAllocMapped(&imgOutput, inputWidth * crop_factor, inputHeight * cropFactor) )\n",
        "\treturn false;\n",
        "\n",
        "// crop the image\n",
        "if( CUDA_FAILED(cudaCrop(imgInput, imgOutput, crop_roi, inputWidth, inputHeight)) )\n",
        "\treturn false;\n",
        "```"
      ]
    },
    {
      "cell_type": "markdown",
      "metadata": {},
      "source": [
        "### Normalización (Normalization)"
      ]
    },
    {
      "cell_type": "markdown",
      "metadata": {},
      "source": [
        "La función `cudaNormalize()` usa la GPU para cambiar el rango de intensidades de píxeles en una imagen. Por ejemplo, convierta una imagen con valores de píxeles entre [0,1] para tener valores de píxeles entre [0,255]. Otro rango común de valores de píxeles se encuentra entre [-1,1].\n",
        "\n",
        " > **nota**: todas las demás funciones en jetson-inference y jetson-utils esperan imágenes con rangos de píxeles entre [0,255], por lo que normalmente no necesitaría usar `cudaNormalize()`, pero está disponible en caso de que esté trabajando con datos de una fuente o destino alternativo.\n",
        "\n",
        "El siguiente psuedocódigo de Python/C++ carga una imagen y la normaliza de [0,255] a [0,1]."
      ]
    },
    {
      "cell_type": "markdown",
      "metadata": {},
      "source": [
        "**Python**\n",
        "\n",
        "```python\n",
        "import jetson.utils\n",
        "\n",
        "# load the input image (its pixels will be in the range of 0-255)\n",
        "imgInput = jetson.utils.loadImage('my_image.jpg')\n",
        "\n",
        "# allocate the output image, with the same dimensions as input\n",
        "imgOutput = jetson.utils.cudaAllocMapped(width=imgInput.width, height=imgInput.height, format=imgInput.format)\n",
        "\n",
        "# normalize the image from [0,255] to [0,1]\n",
        "jetson.utils.cudaNormalize(imgInput, (0,255), imgOutput, (0,1))\n",
        "```"
      ]
    },
    {
      "cell_type": "markdown",
      "metadata": {},
      "source": [
        "**C++**\n",
        "\n",
        "```cpp\n",
        "#include <jetson-utils/cudaNormalize.h>\n",
        "#include <jetson-utils/cudaMappedMemory.h>\n",
        "#include <jetson-utils/imageIO.h>\n",
        "\n",
        "uchar3* imgInput = NULL;\n",
        "uchar3* imgOutput = NULL;\n",
        "\n",
        "int width = 0;\n",
        "int height = 0;\n",
        "\n",
        "// load the input image (its pixels will be in the range of 0-255)\n",
        "if( !loadImage(\"my_image.jpg\", &imgInput, &width, &height) )\n",
        "\treturn false;\n",
        "\n",
        "// allocate the output image, with the same dimensions as input\n",
        "if( !cudaAllocMapped(&imgOutput, width, height) )\n",
        "\treturn false;\n",
        "\n",
        "// normalize the image from [0,255] to [0,1]\n",
        "CUDA(cudaNormalize(imgInput, make_float2(0,255),\n",
        "                   imgOutput, make_float2(0,1),\n",
        "                   width, height));\n",
        "```"
      ]
    },
    {
      "cell_type": "markdown",
      "metadata": {},
      "source": [
        "### Overlay"
      ]
    },
    {
      "cell_type": "markdown",
      "metadata": {},
      "source": [
        "La función `cudaOverlay()` usa la GPU para compostar una imagen de entrada sobre una imagen de salida en una ubicación particular. Las operaciones de superposición se suelen llamar en secuencia para formar una combinación de varias imágenes juntas.\n",
        "\n",
        "El siguiente psuedocódigo de Python/C++ carga dos imágenes y las compone juntas una al lado de la otra en una imagen de salida."
      ]
    },
    {
      "cell_type": "markdown",
      "metadata": {},
      "source": [
        "**Python**\n",
        "\n",
        "```python\n",
        "import jetson.utils\n",
        "\n",
        "# load the input images\n",
        "imgInputA = jetson.utils.loadImage('my_image_a.jpg')\n",
        "imgInputB = jetson.utils.loadImage('my_image_b.jpg')\n",
        "\n",
        "# allocate the output image, with dimensions to fit both inputs side-by-side\n",
        "imgOutput = jetson.utils.cudaAllocMapped(width=imgInputA.width + imgInputB.width, \n",
        "                                         height=max(imgInputA.height, imgInputB.height),\n",
        "                                         format=imgInputA.format)\n",
        "\n",
        "# compost the two images (the last two arguments are x,y coordinates in the output image)\n",
        "jetson.utils.cudaOverlay(imgInputA, imgOutput, 0, 0)\n",
        "jetson.utils.cudaOverlay(imgInputB, imgOutput, imgInputA.width, 0)\n",
        "```"
      ]
    },
    {
      "cell_type": "markdown",
      "metadata": {},
      "source": [
        "**C++**\n",
        "\n",
        "```cpp\n",
        "#include <jetson-utils/cudaOverlay.h>\n",
        "#include <jetson-utils/cudaMappedMemory.h>\n",
        "#include <jetson-utils/imageIO.h>\n",
        "\n",
        "#include <algorithm>  // for std::max()\n",
        "\n",
        "uchar3* imgInputA = NULL;\n",
        "uchar3* imgInputB = NULL;\n",
        "uchar3* imgOutput = NULL;\n",
        "\n",
        "int2 dimsA = make_int2(0,0);\n",
        "int2 dimsB = make_int2(0,0);\n",
        "\n",
        "// load the input images\n",
        "if( !loadImage(\"my_image_a.jpg\", &imgInputA, &dimsA.x, &dimsA.y) )\n",
        "\treturn false;\n",
        "\n",
        "if( !loadImage(\"my_image_b.jpg\", &imgInputB, &dimsB.x, &dimsB.y) )\n",
        "\treturn false;\n",
        "\n",
        "// allocate the output image, with dimensions to fit both inputs side-by-side\n",
        "const int2 dimsOutput = make_int2(dimsA.x + dimsB.x, std::max(dimsA.y, dimsB.y));\n",
        "\n",
        "if( !cudaAllocMapped(&imgOutput, dimsOutput.x, dimsOutput.y) )\n",
        "\treturn false;\n",
        "\n",
        "// compost the two images (the last two arguments are x,y coordinates in the output image)\n",
        "CUDA(cudaOverlay(imgInputA, dimsA, imgOutput, dimsOutput, 0, 0));\n",
        "CUDA(cudaOverlay(imgInputB, dimsB, imgOutput, dimsOutput, dimsA.x, 0));\n",
        "```"
      ]
    },
    {
      "cell_type": "markdown",
      "metadata": {},
      "source": [
        "### Drawing Shapes"
      ]
    },
    {
      "cell_type": "markdown",
      "metadata": {},
      "source": [
        "`cudaDraw.h` define varias funciones para dibujar formas básicas, incluidos círculos, líneas y rectángulos.\n",
        "\n",
        "A continuación, se muestran códigos sencillos de Python y C++ para usarlos; consulte en [cuda-examples.py](https://github.com/dusty-nv/jetson-utils/blob/master/python/examples/cuda-examples.py) un ejemplo de funcionamiento."
      ]
    },
    {
      "cell_type": "markdown",
      "metadata": {},
      "source": [
        "**Python**\n",
        "\n",
        "```python\n",
        "# load the input image\n",
        "input = jetson.utils.loadImage(\"my_image.jpg\")\n",
        "\n",
        "# cudaDrawCircle(input, (cx,cy), radius, (r,g,b,a), output=None)\n",
        "jetson.utils.cudaDrawCircle(input, (50,50), 25, (0,255,127,200))\n",
        "\n",
        "# cudaDrawRect(input, (left,top,right,bottom), (r,g,b,a), output=None)\n",
        "jetson.utils.cudaDrawRect(input, (200,25,350,250), (255,127,0,200))\n",
        "\n",
        "# cudaDrawLine(input, (x1,y1), (x2,y2), (r,g,b,a), line_width, output=None)\n",
        "jetson.utils.cudaDrawLine(input, (25,150), (325,15), (255,0,200,200), 10)\n",
        "```"
      ]
    },
    {
      "cell_type": "markdown",
      "metadata": {},
      "source": [
        " > **nota**: si la entrada opciona `output` no se especifica, la operación se realizará en el lugar de la imagen de entrada."
      ]
    },
    {
      "cell_type": "markdown",
      "metadata": {},
      "source": [
        "**C++**\n",
        "\n",
        "```cpp\n",
        "#include <jetson-utils/cudaDraw.h>\n",
        "#include <jetson-utils/imageIO.h>\n",
        "\n",
        "uchar3* img = NULL;\n",
        "int width = 0;\n",
        "int height = 0;\n",
        "\n",
        "// load example image\n",
        "if( !loadImage(\"my_image.jpg\", &img, &width, &height) )\n",
        "\treturn false;\t// loading error\n",
        "\t\n",
        "// see cudaDraw.h for definitions\n",
        "CUDA(cudaDrawCircle(img, width, height, 50, 50, 25, make_float4(0,255,127,200)));\n",
        "CUDA(cudaDrawRect(img, width, height, 200, 25, 350, 250, make_float4(255,127,0,200)));\n",
        "CUDA(cudaDrawLine(img, width, height, 25, 150, 325, 15, make_float4(255,0,200,200), 10));\n",
        "```"
      ]
    }
  ],
  "metadata": {
    "interpreter": {
      "hash": "d1c24abb23a313e1f9ae042292cd8e6e3c60c5818227ced3d46e3df2c65171ef"
    },
    "kernelspec": {
      "display_name": "Python 3.8.11 64-bit ('base': conda)",
      "name": "python3"
    },
    "language_info": {
      "codemirror_mode": {
        "name": "ipython",
        "version": 3
      },
      "file_extension": ".py",
      "mimetype": "text/x-python",
      "name": "python",
      "nbconvert_exporter": "python",
      "pygments_lexer": "ipython3",
      "version": "3.8.11"
    }
  },
  "nbformat": 4,
  "nbformat_minor": 2
}
