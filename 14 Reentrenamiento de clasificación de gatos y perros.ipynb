{
  "cells": [
    {
      "cell_type": "markdown",
      "metadata": {},
      "source": [
        "# Reentrenamiento de clasificación de gatos y perros"
      ]
    },
    {
      "cell_type": "markdown",
      "metadata": {},
      "source": [
        "A continuación se proporciona un conjunto de datos de 800 MB que incluye 5000 imágenes de entrenamiento, 1000 imágenes de validación y 200 imágenes de prueba, cada una dividida uniformemente entre las clases de perros y gatos. El conjunto de imágenes de entrenamiento se usa para el aprendizaje de transferencia, mientras que el conjunto de validación se usa para evaluar la precisión de la clasificación durante el entrenamiento, y las imágenes de prueba las usaremos después de que finalice el entrenamiento. La red nunca recibe formación directa sobre los conjuntos de validación y prueba, solo el conjunto de entrenamiento.\n",
        "\n",
        "Las imágenes del conjunto de datos se componen de muchas razas diferentes de perros y gatos, incluidos felinos grandes como tigres y leones de montaña, ya que la cantidad de imágenes de gatos disponibles era un poco menor que la de los perros. Algunas de las imágenes también muestran a humanos, que el detector está esencialmente entrenado para ignorar como fondo y enfocarse en el contenido del gato contra el perro."
      ]
    },
    {
      "cell_type": "markdown",
      "metadata": {},
      "source": [
        "--------------"
      ]
    },
    {
      "cell_type": "markdown",
      "metadata": {},
      "source": [
        "## Descarga del dataset"
      ]
    },
    {
      "cell_type": "markdown",
      "metadata": {},
      "source": [
        "Durante este tutorial, almacenaremos los conjuntos de datos en el dispositivo host en ``jetson-inference/python/training/classification/data``, que es uno de los directorios que se monta automáticamente en el contenedor. De esta manera, el conjunto de datos no se perderá cuando cierre el contenedor.\n",
        "\n",
        "```\n",
        "$ cd jetson-inference/python/training/classification/data\n",
        "$ wget https://nvidia.box.com/shared/static/o577zd8yp3lmxf5zhm38svrbrv45am3y.gz -O cat_dog.tar.gz\n",
        "$ tar xvzf cat_dog.tar.gz\n",
        "```\n",
        "\n",
        "Otros enlaces donde se encuentra el conjunto de datos son estos\n",
        " * [https://drive.google.com/file/d/16E3yFvVS2DouwgIl4TPFJvMlhGpnYWKF/view?usp=sharing](https://drive.google.com/file/d/16E3yFvVS2DouwgIl4TPFJvMlhGpnYWKF/view?usp=sharing)\n",
        " * [https://nvidia.box.com/s/o577zd8yp3lmxf5zhm38svrbrv45am3y](https://nvidia.box.com/s/o577zd8yp3lmxf5zhm38svrbrv45am3y)"
      ]
    },
    {
      "cell_type": "markdown",
      "metadata": {},
      "source": []
    }
  ],
  "metadata": {
    "interpreter": {
      "hash": "d1c24abb23a313e1f9ae042292cd8e6e3c60c5818227ced3d46e3df2c65171ef"
    },
    "kernelspec": {
      "display_name": "Python 3.8.11 64-bit ('base': conda)",
      "name": "python3"
    },
    "language_info": {
      "codemirror_mode": {
        "name": "ipython",
        "version": 3
      },
      "file_extension": ".py",
      "mimetype": "text/x-python",
      "name": "python",
      "nbconvert_exporter": "python",
      "pygments_lexer": "ipython3",
      "version": "3.8.11"
    }
  },
  "nbformat": 4,
  "nbformat_minor": 2
}
