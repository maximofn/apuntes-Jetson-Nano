{
  "cells": [
    {
      "cell_type": "markdown",
      "source": [
        "# Deshabilitar interfaz gráfica"
      ],
      "metadata": {}
    },
    {
      "cell_type": "markdown",
      "source": [
        "--------------"
      ],
      "metadata": {}
    },
    {
      "cell_type": "markdown",
      "source": [
        "## Deshabilitar interfaz gráfica temporalmente"
      ],
      "metadata": {}
    },
    {
      "cell_type": "markdown",
      "source": [
        "`$ sudo init 3`"
      ],
      "metadata": {}
    },
    {
      "cell_type": "markdown",
      "source": [
        "--------------"
      ],
      "metadata": {}
    },
    {
      "cell_type": "markdown",
      "source": [
        "## Habilitar interfaz gráfica temporalmente"
      ],
      "metadata": {}
    },
    {
      "cell_type": "markdown",
      "source": [
        "`$ sudo init 5`"
      ],
      "metadata": {}
    },
    {
      "cell_type": "markdown",
      "source": [
        "--------------"
      ],
      "metadata": {}
    },
    {
      "cell_type": "markdown",
      "source": [
        "## Deshabilitar interfaz gráfica permanentemente"
      ],
      "metadata": {}
    },
    {
      "cell_type": "markdown",
      "source": [
        "`$ sudo systemctl set-default multi-user.target`"
      ],
      "metadata": {}
    },
    {
      "cell_type": "markdown",
      "source": [
        "--------------"
      ],
      "metadata": {}
    },
    {
      "cell_type": "markdown",
      "source": [
        "## Habilitar interfaz gráfica permanentemente"
      ],
      "metadata": {}
    },
    {
      "cell_type": "markdown",
      "source": [
        "`$ sudo systemctl set-default graphical.target`"
      ],
      "metadata": {}
    }
  ],
  "metadata": {
    "kernelspec": {
      "name": "python3",
      "display_name": "Python 3.8.11 64-bit ('base': conda)"
    },
    "language_info": {
      "name": "python",
      "version": "3.8.11",
      "mimetype": "text/x-python",
      "codemirror_mode": {
        "name": "ipython",
        "version": 3
      },
      "pygments_lexer": "ipython3",
      "nbconvert_exporter": "python",
      "file_extension": ".py"
    },
    "interpreter": {
      "hash": "d1c24abb23a313e1f9ae042292cd8e6e3c60c5818227ced3d46e3df2c65171ef"
    }
  },
  "nbformat": 4,
  "nbformat_minor": 2
}