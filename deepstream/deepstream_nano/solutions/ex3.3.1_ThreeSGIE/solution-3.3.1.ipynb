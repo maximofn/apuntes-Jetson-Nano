{
 "cells": [
  {
   "cell_type": "markdown",
   "metadata": {
    "tags": []
   },
   "source": [
    "## 3.3.1 Exercise: Three Secondary Networks\n",
    "Create a new app based on `deepstream-test2-rtsp-out-1SGIE` that classifies colors, makes, and vehicle types. Fill in the following cells with appropriate commands to create and run your app. To edit your files, use the JupyterLab file browser at left to navigate to the correct folder; then, double click on the file you wish to open and edit."
   ]
  },
  {
   "cell_type": "code",
   "execution_count": null,
   "metadata": {},
   "outputs": [],
   "source": [
    "# TODO\n",
    "# Create a new app located at $MY_APPS/dst2-three-sgie \n",
    "#      based on $DLI_APPS/deepstream-test2-rtsp-out-1SGIE\n",
    "!mkdir -p $MY_APPS/dst2-three-sgie\n",
    "!cp -rfv $DLI_APPS/deepstream-test2-rtsp-out-1SGIE/* $MY_APPS/dst2-three-sgie"
   ]
  },
  {
   "cell_type": "code",
   "execution_count": null,
   "metadata": {},
   "outputs": [],
   "source": [
    "# TODO\n",
    "# Create a new configuration files for SGIOE2 and SGIE3\n",
    "#      based on the one already existing for SGIE1.\n",
    "!cp -rfv $DLI_APPS/deepstream-test2-rtsp-out-1SGIE/dstest2_sgie1_config.txt \\\n",
    "        $MY_APPS/dst2-three-sgie/dstest2_sgie2_config.txt\n",
    "!cp -rfv $DLI_APPS/deepstream-test2-rtsp-out-1SGIE/dstest2_sgie1_config.txt \\\n",
    "        $MY_APPS/dst2-three-sgie/dstest2_sgie3_config.txt"
   ]
  },
  {
   "cell_type": "markdown",
   "metadata": {},
   "source": [
    "Solution [Python file](dst2-three-sgie/deepstream_test2_rtsp_out.py)<br>\n",
    "Solution [SGIE2 config file](dst2-three-sgie/dstest2_sgie2_config.txt)<br>\n",
    "Solution [SGIE3 config file](dst2-three-sgie/dstest2_sgie3_config.txt)<br>"
   ]
  },
  {
   "cell_type": "code",
   "execution_count": null,
   "metadata": {},
   "outputs": [],
   "source": [
    "# TODO\n",
    "# Run the app\n",
    "!cd $MY_APPS/dst2-three-sgie \\\n",
    "    && python3 deepstream_test2_rtsp_out.py -i $STREAMS/sample_720p.h264"
   ]
  }
 ],
 "metadata": {
  "kernelspec": {
   "display_name": "Python 3",
   "language": "python",
   "name": "python3"
  },
  "language_info": {
   "codemirror_mode": {
    "name": "ipython",
    "version": 3
   },
   "file_extension": ".py",
   "mimetype": "text/x-python",
   "name": "python",
   "nbconvert_exporter": "python",
   "pygments_lexer": "ipython3",
   "version": "3.6.9"
  }
 },
 "nbformat": 4,
 "nbformat_minor": 4
}
