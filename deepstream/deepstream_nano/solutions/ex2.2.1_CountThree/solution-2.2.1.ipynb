{
 "cells": [
  {
   "cell_type": "markdown",
   "metadata": {},
   "source": [
    "## 2.2.1 Exercise: Detect and Count Three Object Types\n",
    "Create a new app based on `deepstream-test1-rtsp_out` that detects and displays counts for _only_ three kinds of objects: persons, vehicles, and bicycles.  Adjust the confidence values if needed for each.  Fill in the following cells with appropriate commands to create and run your app.  You will need to modify both the config file and the Python file as well.  "
   ]
  },
  {
   "cell_type": "code",
   "execution_count": null,
   "metadata": {},
   "outputs": [],
   "source": [
    "# TODO\n",
    "# Create a new app located at my_apps/dst1-three-things\n",
    "#      based on deepstream-test1-rtsp_out\n",
    "!mkdir -p $MY_APPS/dst1-three-things\n",
    "!cp -rfv $PYTHON_APPS/deepstream-test1-rtsp-out/* $MY_APPS/dst1-three-things/"
   ]
  },
  {
   "cell_type": "markdown",
   "metadata": {},
   "source": [
    "Solution [Python file](ex2.2.1_deepstream_test1_rtsp_out.py)<br>\n",
    "Solution [config file](ex2.2.1_dstest1_pgie_config.txt)"
   ]
  },
  {
   "cell_type": "code",
   "execution_count": null,
   "metadata": {},
   "outputs": [],
   "source": [
    "# TODO\n",
    "# Run the app\n",
    "!cd $MY_APPS/dst1-three-things \\\n",
    "    && python3 deepstream_test1_rtsp_out.py -i $STREAMS/sample_720p.h264"
   ]
  }
 ],
 "metadata": {
  "kernelspec": {
   "display_name": "Python 3",
   "language": "python",
   "name": "python3"
  },
  "language_info": {
   "codemirror_mode": {
    "name": "ipython",
    "version": 3
   },
   "file_extension": ".py",
   "mimetype": "text/x-python",
   "name": "python",
   "nbconvert_exporter": "python",
   "pygments_lexer": "ipython3",
   "version": "3.6.9"
  }
 },
 "nbformat": 4,
 "nbformat_minor": 4
}
