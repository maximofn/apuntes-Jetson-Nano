{
  "cells": [
    {
      "cell_type": "markdown",
      "source": [
        "# Conectar por SSH a través del USB"
      ],
      "metadata": {}
    },
    {
      "cell_type": "markdown",
      "source": [
        "Con la instalación de JetPack el puerto USB de la Jetson Nano tiene la IP 192.168.55.1, por lo que se puede acceder a ella a través de SSH mediante el comando\r\n",
        "\r\n",
        "```\r\n",
        "ssh <username>@192.168.55.1\r\n",
        "```\r\n",
        "\r\n",
        "En mi caso el usuario es ```expace```, por lo que el comando sería\r\n",
        "\r\n",
        "```\r\n",
        "ssh expace@192.168.55.1\r\n",
        "```"
      ],
      "metadata": {}
    }
  ],
  "metadata": {
    "kernelspec": {
      "name": "python3",
      "display_name": "Python 3.8.8 64-bit ('base': conda)"
    },
    "language_info": {
      "name": "python",
      "version": "3.8.8",
      "mimetype": "text/x-python",
      "codemirror_mode": {
        "name": "ipython",
        "version": 3
      },
      "pygments_lexer": "ipython3",
      "nbconvert_exporter": "python",
      "file_extension": ".py"
    },
    "interpreter": {
      "hash": "8e4d58f53b4b3ced286559ef92073773937aa87eedd0536c036fd264999b02c5"
    }
  },
  "nbformat": 4,
  "nbformat_minor": 2
}