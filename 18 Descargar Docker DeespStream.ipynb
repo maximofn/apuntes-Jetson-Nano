{
 "cells": [
  {
   "cell_type": "markdown",
   "metadata": {},
   "source": [
    "# Descargar Docker DeepStream"
   ]
  },
  {
   "cell_type": "markdown",
   "metadata": {},
   "source": [
    "--------------"
   ]
  },
  {
   "cell_type": "markdown",
   "metadata": {},
   "source": [
    "## Descargar y ejecutar el Docker"
   ]
  },
  {
   "cell_type": "markdown",
   "metadata": {},
   "source": [
    "Crear una carpeta donde se guardarán las aplicaciones\n",
    "\n",
    "```\n",
    " $ mkdir -p ~/deepstream_apps\n",
    " $ cd ~/deepstream_apps\n",
    "```"
   ]
  },
  {
   "cell_type": "markdown",
   "metadata": {},
   "source": [
    "Ver la versión de JetPack instalada\n",
    "\n",
    "```\n",
    " $ sudo cat /etc/nv_tegra_release\n",
    "```\n",
    "\n",
    "En mi caso obtengo\n",
    "\n",
    "```\n",
    "# R32 (release), REVISION: 7.1, GCID: 29818004, BOARD: t210ref, EABI: aarch64, DATE: Sat Feb 19 17:05:08 UTC 2022\n",
    "```\n",
    "\n",
    "Lo que quiere decir que tengo la `R32.7.1`\n",
    "\n",
    "En el [jetpack archive](https://developer.nvidia.com/embedded/jetpack-archive) se pueden ver las versiones de JetPack, donde puedo ver que la `R32.7.1` corresponde a la versión `4.6.1` de JetPack"
   ]
  },
  {
   "cell_type": "markdown",
   "metadata": {},
   "source": [
    "En la página de [contenedores deepstream](https://catalog.ngc.nvidia.com/orgs/nvidia/teams/dli/containers/dli-nano-deepstream), podemos ver qué versión de contenedor Docker tenemos que usar.\n",
    "\n",
    "En mi caso, al tener la versión `4.6.1` de JetPack, tengo que usar el contenedor `v2.0.0-DS6.0.1`"
   ]
  },
  {
   "cell_type": "markdown",
   "metadata": {},
   "source": [
    "Creamos un ejecutable para que arranque el contenedor\n",
    "\n",
    "```\n",
    "echo \"sudo docker run --runtime nvidia -it --rm --network host \\\n",
    "    -v /tmp/.X11-unix/:/tmp/.X11-unix \\\n",
    "    -v /tmp/argus_socket:/tmp/argus_socket \\\n",
    "    -v ~/deepstream_apps:/dli/task/deepstream_apps \\\n",
    "    --device /dev/video0 \\\n",
    "    nvcr.io/nvidia/dli/dli-nano-deepstream:<tag> \" > deepstream_docker_run.sh\n",
    "```\n",
    "\n",
    "Donde tenemos que sustituir `<tag>` por la versión de contenedor que hemos visto que necesitamos, como en mi caso es la versión `v2.0.0-DS6.0.1` ejecuto\n",
    "\n",
    "```\n",
    "echo \"sudo docker run --runtime nvidia -it --rm --network host \\\n",
    "    -v /tmp/.X11-unix/:/tmp/.X11-unix \\\n",
    "    -v /tmp/argus_socket:/tmp/argus_socket \\\n",
    "    -v ~/deepstream_apps:/dli/task/deepstream_apps \\\n",
    "    --device /dev/video0 \\\n",
    "    nvcr.io/nvidia/dli/dli-nano-deepstream:v2.0.0-DS6.0.1 \" > deepstream_docker_run.sh\n",
    "```"
   ]
  },
  {
   "cell_type": "markdown",
   "metadata": {},
   "source": [
    "Damos permisos al script\n",
    "\n",
    "```\n",
    "sudo chmod +x deepstream_docker_run.sh\n",
    "```"
   ]
  },
  {
   "cell_type": "markdown",
   "metadata": {},
   "source": [
    "Lo ejecutamos\n",
    "\n",
    "```\n",
    "./deepstream_docker_run.sh\n",
    "```"
   ]
  },
  {
   "cell_type": "markdown",
   "metadata": {},
   "source": [
    "-----------------"
   ]
  },
  {
   "cell_type": "markdown",
   "metadata": {},
   "source": [
    "## Abrir el servidor Docker en el navegador"
   ]
  },
  {
   "cell_type": "markdown",
   "metadata": {},
   "source": [
    "El contenedor que acabamos de ejecutar crea un servidor al que nos podemos conectar mediante\n",
    "\n",
    "```\n",
    "<IP>:8888\n",
    "```\n",
    "\n",
    "Donde `<IP>` es la IP de la Jetson, en mi caso su IP es la `192.168.1.148`, así que me conecto a él mediante\n",
    "\n",
    "```\n",
    "192.168.1.148:8888\n",
    "```\n",
    "\n",
    "La contraseña es `dlinano`\n",
    "\n",
    "Se abrirá un Jupyter Lab"
   ]
  },
  {
   "cell_type": "markdown",
   "metadata": {},
   "source": [
    "--------"
   ]
  },
  {
   "cell_type": "markdown",
   "metadata": {},
   "source": [
    "## Reproducir video del contenedor"
   ]
  },
  {
   "cell_type": "markdown",
   "metadata": {},
   "source": [
    "Algunas aplicaciones mandarán vídeo por RTSP, para poder reproducirlo, abrir `VLC` e ir a Media-->Open Network Stream...\n",
    "\n",
    "![Open Network Stream](https://dli-lms.s3.amazonaws.com/data/c-iv-02/images/vlc_windows04_596.png)"
   ]
  },
  {
   "cell_type": "markdown",
   "metadata": {},
   "source": [
    "Introducir \n",
    "\n",
    "```\n",
    "rtsp://<IP>:8554/ds-test\n",
    "```\n",
    "\n",
    "Donde `<IP>` es la IP de a Jetson, en mi caso su IP es la `192.168.1.148`, así que escribo \n",
    "\n",
    "```\n",
    "rtsp://192.168.1.148:8554/ds-test\n",
    "```\n",
    "\n",
    "![rtsp VLC](https://dli-lms.s3.amazonaws.com/data/c-iv-02/images/vlc_windows05_534.png)"
   ]
  }
 ],
 "metadata": {
  "interpreter": {
   "hash": "d1c24abb23a313e1f9ae042292cd8e6e3c60c5818227ced3d46e3df2c65171ef"
  },
  "kernelspec": {
   "display_name": "Python 3.8.11 ('base')",
   "language": "python",
   "name": "python3"
  },
  "language_info": {
   "name": "python",
   "version": "3.8.11"
  },
  "orig_nbformat": 4
 },
 "nbformat": 4,
 "nbformat_minor": 2
}
