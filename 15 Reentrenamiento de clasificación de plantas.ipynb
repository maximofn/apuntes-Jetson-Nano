{
  "cells": [
    {
      "cell_type": "markdown",
      "metadata": {},
      "source": [
        "# Reentrenamiento de clasificación de plantas"
      ]
    },
    {
      "cell_type": "markdown",
      "metadata": {},
      "source": [
        "A continuación, entrenaremos un modelo capaz de clasificar 20 variedades diferentes de plantas y árboles del conjunto de datos [PlantCLEF](https://www.imageclef.org/lifeclef/2017/plant)"
      ]
    },
    {
      "cell_type": "markdown",
      "metadata": {},
      "source": [
        "![pytorch-plants](https://raw.githubusercontent.com/dusty-nv/jetson-inference/python/docs/images/pytorch-plants.jpg)"
      ]
    },
    {
      "cell_type": "markdown",
      "metadata": {},
      "source": [
        "A continuación se proporciona un subconjunto de 1,5 GB que incluye 10475 imágenes de entrenamiento, 1155 imágenes de validación y 30 imágenes de prueba en 20 clases de plantas y árboles. Las clases fueron seleccionadas de PlantCLEF 2017 de categorías que tenían al menos 500 imágenes de entrenamiento en el conjunto de datos original:\n",
        "\n",
        "```\n",
        "• ash\n",
        "• beech\n",
        "• cat-tail\n",
        "• cedar\n",
        "• clover\n",
        "• cyprus\n",
        "• daisy\n",
        "• dandelion\n",
        "• dogwood\n",
        "• elm\n",
        "• fern\n",
        "• fig\n",
        "• fir\n",
        "• juniper\n",
        "• maple\n",
        "• poison ivy\n",
        "• sweetgum\n",
        "• sycamore\n",
        "• trout lily\n",
        "• tulip tree\n",
        "```"
      ]
    },
    {
      "cell_type": "markdown",
      "metadata": {},
      "source": [
        "--------------"
      ]
    },
    {
      "cell_type": "markdown",
      "metadata": {},
      "source": [
        "## Descarga del dataset"
      ]
    },
    {
      "cell_type": "markdown",
      "metadata": {},
      "source": [
        "Durante este tutorial, almacenaremos los conjuntos de datos en el dispositivo host en ``jetson-inference/python/training/classification/data``, que es uno de los directorios que se monta automáticamente en el contenedor. De esta manera, el conjunto de datos no se perderá cuando cierre el contenedor.\n",
        "\n",
        "```\n",
        "$ cd jetson-inference/python/training/classification/data\n",
        "$ wget https://nvidia.box.com/shared/static/vbsywpw5iqy7r38j78xs0ctalg7jrg79.gz -O PlantCLEF_Subset.tar.gz\n",
        "$ tar xvzf PlantCLEF_Subset.tar.gz\n",
        "```\n",
        "\n",
        "Otros enlaces donde se encuentra el conjunto de datos son estos\n",
        " * [https://drive.google.com/file/d/14pUv-ZLHtRR-zCYjznr78mytFcnuR_1D/view?usp=sharing](https://drive.google.com/file/d/14pUv-ZLHtRR-zCYjznr78mytFcnuR_1D/view?usp=sharing)\n",
        " * [https://nvidia.box.com/s/vbsywpw5iqy7r38j78xs0ctalg7jrg79](https://nvidia.box.com/s/vbsywpw5iqy7r38j78xs0ctalg7jrg79)"
      ]
    },
    {
      "cell_type": "markdown",
      "metadata": {},
      "source": []
    }
  ],
  "metadata": {
    "interpreter": {
      "hash": "d1c24abb23a313e1f9ae042292cd8e6e3c60c5818227ced3d46e3df2c65171ef"
    },
    "kernelspec": {
      "display_name": "Python 3.8.11 64-bit ('base': conda)",
      "name": "python3"
    },
    "language_info": {
      "codemirror_mode": {
        "name": "ipython",
        "version": 3
      },
      "file_extension": ".py",
      "mimetype": "text/x-python",
      "name": "python",
      "nbconvert_exporter": "python",
      "pygments_lexer": "ipython3",
      "version": "3.8.11"
    }
  },
  "nbformat": 4,
  "nbformat_minor": 2
}
