{
  "cells": [
    {
      "cell_type": "markdown",
      "metadata": {},
      "source": [
        "# Compilar Hello AI World en la Jetson Nano"
      ]
    },
    {
      "cell_type": "markdown",
      "metadata": {},
      "source": [
        "--------------"
      ]
    },
    {
      "cell_type": "markdown",
      "metadata": {},
      "source": [
        "## Descargar el repositorio"
      ]
    },
    {
      "cell_type": "markdown",
      "metadata": {},
      "source": [
        "Descargar el repositorio Hello AI Wolrd de Github mediante el siguiente comando\n",
        "\n",
        "```\n",
        " $ git clone --recursive https://github.com/dusty-nv/jetson-inference\n",
        "```\n",
        "\n",
        "la opción ```--recursive``` hace que se descarguen las librerías necesarias para el Docker"
      ]
    },
    {
      "cell_type": "markdown",
      "metadata": {},
      "source": [
        "Deacargar la rama python\n",
        "\n",
        "```\n",
        " $ cd jetson-inference\n",
        " $ git clone -b python https://github.com/dusty-nv/jetson-inference\n",
        "```"
      ]
    },
    {
      "cell_type": "markdown",
      "metadata": {},
      "source": [
        "--------------"
      ]
    },
    {
      "cell_type": "markdown",
      "metadata": {},
      "source": [
        "## Instalar librerías"
      ]
    },
    {
      "cell_type": "markdown",
      "metadata": {},
      "source": [
        "Instalar ciertas librerías necesarias\n",
        "\n",
        "```\n",
        " $ sudo apt-get update\n",
        " $ sudo apt-get install git cmake libpython3-dev python3-numpy\n",
        "```"
      ]
    },
    {
      "cell_type": "markdown",
      "metadata": {},
      "source": [
        "--------------"
      ]
    },
    {
      "cell_type": "markdown",
      "metadata": {},
      "source": [
        "## Compilar"
      ]
    },
    {
      "cell_type": "markdown",
      "metadata": {},
      "source": [
        "```\n",
        " $ cd jetson-inference\n",
        " $ mkdir build\n",
        " $ cd build\n",
        " $ cmake ../\n",
        " $ make -j$(nproc)\n",
        "```\n",
        "\n",
        "Donde ```$(nproc)``` es el número de núcleos dedl micro para que trabajen en paralelo. Ante la duda ejecutar solo ```$ make```\n",
        "\n",
        "```\n",
        " $ sudo make install\n",
        " $ sudo ldconfig\n",
        "```"
      ]
    }
  ],
  "metadata": {
    "interpreter": {
      "hash": "d1c24abb23a313e1f9ae042292cd8e6e3c60c5818227ced3d46e3df2c65171ef"
    },
    "kernelspec": {
      "display_name": "Python 3.8.11 64-bit ('base': conda)",
      "name": "python3"
    },
    "language_info": {
      "codemirror_mode": {
        "name": "ipython",
        "version": 3
      },
      "file_extension": ".py",
      "mimetype": "text/x-python",
      "name": "python",
      "nbconvert_exporter": "python",
      "pygments_lexer": "ipython3",
      "version": "3.8.11"
    }
  },
  "nbformat": 4,
  "nbformat_minor": 2
}
