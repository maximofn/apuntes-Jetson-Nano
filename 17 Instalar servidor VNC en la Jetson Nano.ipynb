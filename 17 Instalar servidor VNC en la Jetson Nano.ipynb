{
 "cells": [
  {
   "cell_type": "markdown",
   "metadata": {},
   "source": [
    "# Instalar servidor VNC en la Jetson Nano"
   ]
  },
  {
   "cell_type": "markdown",
   "metadata": {},
   "source": [
    "##  Habilitar el servidor VNC para que arranque cada vez que inicie sesión"
   ]
  },
  {
   "cell_type": "markdown",
   "metadata": {},
   "source": [
    "Si se tiene una jetson Nano de 2 GB (LXDE) ejecutar lo siguiente\n",
    "\n",
    "```\n",
    " $ mkdir -p ~/.config/autostart\n",
    " $ cp /usr/share/applications/vino-server.desktop ~/.config/autostart/.\n",
    "```\n",
    "\n",
    "Para el resto de Jetson ejecutar lo siguiente\n",
    "\n",
    "```\n",
    " $ cd /usr/lib/systemd/user/graphical-session.target.wants\n",
    " $ sudo ln -s ../vino-server.service ./.\n",
    "```"
   ]
  },
  {
   "cell_type": "markdown",
   "metadata": {},
   "source": [
    "## Configurar el servidor VNC"
   ]
  },
  {
   "cell_type": "markdown",
   "metadata": {},
   "source": [
    "```\n",
    " $ gsettings set org.gnome.Vino prompt-enabled false\n",
    " $ gsettings set org.gnome.Vino require-encryption false\n",
    "```"
   ]
  },
  {
   "cell_type": "markdown",
   "metadata": {},
   "source": [
    "## Establecer una contraseña en el servidor VNC"
   ]
  },
  {
   "cell_type": "markdown",
   "metadata": {},
   "source": [
    "Introducir la contraseña en el lugar que pone ```thepassword```\n",
    "```\n",
    " $ gsettings set org.gnome.Vino authentication-methods \"['vnc']\"\n",
    " $ gsettings set org.gnome.Vino vnc-password $(echo -n 'thepassword'|base64)\n",
    "```"
   ]
  },
  {
   "cell_type": "markdown",
   "metadata": {},
   "source": [
    "## Reiniciar la jetson"
   ]
  },
  {
   "cell_type": "markdown",
   "metadata": {},
   "source": [
    "```\n",
    " $ sudo reboot\n",
    "```"
   ]
  },
  {
   "cell_type": "markdown",
   "metadata": {},
   "source": [
    "# Instalar un cliente VNC en windows"
   ]
  },
  {
   "cell_type": "markdown",
   "metadata": {},
   "source": [
    " * Descargar [VNC viewer](https://www.realvnc.com/en/connect/download/viewer/)\n",
    " * Ejecutar VNC viewer y escribir la IP de la Jetson\n",
    " * Escribir la contraseña"
   ]
  },
  {
   "cell_type": "markdown",
   "metadata": {},
   "source": [
    "# Instalar un cliente VNC en Linux"
   ]
  },
  {
   "cell_type": "markdown",
   "metadata": {},
   "source": [
    "Instalar gvncviewer\n",
    "\n",
    "```\n",
    " $ sudo apt update\n",
    " $ sudo apt install gvncviewer\n",
    "```"
   ]
  },
  {
   "cell_type": "markdown",
   "metadata": {},
   "source": [
    "Ejecutar gvncviewer\n",
    "\n",
    "```\n",
    " $ gvncviewer\n",
    "```"
   ]
  },
  {
   "cell_type": "markdown",
   "metadata": {},
   "source": [
    "Escribir la IP y la contraseña"
   ]
  }
 ],
 "metadata": {
  "interpreter": {
   "hash": "d1c24abb23a313e1f9ae042292cd8e6e3c60c5818227ced3d46e3df2c65171ef"
  },
  "kernelspec": {
   "display_name": "Python 3.8.11 ('base')",
   "language": "python",
   "name": "python3"
  },
  "language_info": {
   "name": "python",
   "version": "3.8.11"
  },
  "orig_nbformat": 4
 },
 "nbformat": 4,
 "nbformat_minor": 2
}
