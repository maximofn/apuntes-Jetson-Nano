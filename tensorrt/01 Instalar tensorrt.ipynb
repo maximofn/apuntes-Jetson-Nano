{
 "cells": [
  {
   "cell_type": "markdown",
   "metadata": {},
   "source": [
    "# Instalar tensorrt "
   ]
  },
  {
   "cell_type": "markdown",
   "metadata": {},
   "source": [
    " * Ir a la página de [descargas](https://docs.nvidia.com/deeplearning/tensorrt/install-guide/index.html#downloading) donde se explica todo\n",
    " * Ir a la página de [tensorrt](https://developer.nvidia.com/tensorrt) para descargarlo\n",
    " * Darle a *Get started*, hacer logging y por último a *Download now*\n",
    " * Seleccionar la versión, en mi caso elijo la última, `TensorRT 8`\n",
    " * Aceptar los términos y condiciones de Nvidia y seleccionar una versión de `TensorRT 8`. La diferencia entre `EA` (early access) y `GA` (general availability) es que GA es la versión estable. Así que en mi caso elijo la última estable, `TensorRT 8.4 GA Update 2`\n",
    " * Como tengo *Ubuntu 20.04* y *cuda 10.1* elijo la versión "
   ]
  },
  {
   "cell_type": "code",
   "execution_count": null,
   "metadata": {},
   "outputs": [
    {
     "ename": "",
     "evalue": "",
     "output_type": "error",
     "traceback": [
      "\u001b[1;31mLa ejecución de celdas con 'Python 3.8.10 64-bit' requieren el paquete ipykernel.\n",
      "\u001b[1;31mEjecute el siguiente comando para instalar 'ipykernel' en el entorno de Python. comando \n",
      "\u001b[1;31m: '/bin/python3 -m pip install ipykernel -U --user --force-reinstall'"
     ]
    }
   ],
   "source": []
  },
  {
   "cell_type": "code",
   "execution_count": null,
   "metadata": {},
   "outputs": [],
   "source": []
  }
 ],
 "metadata": {
  "kernelspec": {
   "display_name": "Python 3.8.10 64-bit",
   "language": "python",
   "name": "python3"
  },
  "language_info": {
   "name": "python",
   "version": "3.8.10"
  },
  "orig_nbformat": 4,
  "vscode": {
   "interpreter": {
    "hash": "916dbcbb3f70747c44a77c7bcd40155683ae19c65e1c03b4aa3499c5328201f1"
   }
  }
 },
 "nbformat": 4,
 "nbformat_minor": 2
}
