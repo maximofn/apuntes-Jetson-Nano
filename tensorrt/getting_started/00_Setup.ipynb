{
 "cells": [
  {
   "cell_type": "markdown",
   "id": "6fab768f",
   "metadata": {},
   "source": [
    "# Check if it is into container"
   ]
  },
  {
   "cell_type": "code",
   "execution_count": 1,
   "id": "80131618",
   "metadata": {},
   "outputs": [
    {
     "name": "stdout",
     "output_type": "stream",
     "text": [
      "/workspace\r\n"
     ]
    }
   ],
   "source": [
    "!pwd"
   ]
  },
  {
   "cell_type": "code",
   "execution_count": 11,
   "id": "248ee4a1",
   "metadata": {},
   "outputs": [
    {
     "name": "stdout",
     "output_type": "stream",
     "text": [
      "nvcc: NVIDIA (R) Cuda compiler driver\r\n",
      "Copyright (c) 2005-2022 NVIDIA Corporation\r\n",
      "Built on Wed_Sep_21_10:33:58_PDT_2022\r\n",
      "Cuda compilation tools, release 11.8, V11.8.89\r\n",
      "Build cuda_11.8.r11.8/compiler.31833905_0\r\n"
     ]
    }
   ],
   "source": [
    "!nvcc --version"
   ]
  },
  {
   "cell_type": "markdown",
   "id": "8b7bceb1",
   "metadata": {},
   "source": [
    "# Check if TensorRT is installed"
   ]
  },
  {
   "cell_type": "code",
   "execution_count": 2,
   "id": "7f7c5353",
   "metadata": {},
   "outputs": [
    {
     "name": "stdout",
     "output_type": "stream",
     "text": [
      "ii  libnvinfer-bin                  8.5.0-1+cuda11.8                  amd64        TensorRT binaries\r\n",
      "ii  libnvinfer-dev                  8.5.0-1+cuda11.8                  amd64        TensorRT development libraries and headers\r\n",
      "ii  libnvinfer-plugin-dev           8.5.0-1+cuda11.8                  amd64        TensorRT plugin libraries\r\n",
      "ii  libnvinfer-plugin8              8.5.0-1+cuda11.8                  amd64        TensorRT plugin libraries\r\n",
      "ii  libnvinfer8                     8.5.0-1+cuda11.8                  amd64        TensorRT runtime libraries\r\n",
      "ii  libnvonnxparsers-dev            8.5.0-1+cuda11.8                  amd64        TensorRT ONNX libraries\r\n",
      "ii  libnvonnxparsers8               8.5.0-1+cuda11.8                  amd64        TensorRT ONNX libraries\r\n",
      "ii  libnvparsers-dev                8.5.0-1+cuda11.8                  amd64        TensorRT parsers libraries\r\n",
      "ii  libnvparsers8                   8.5.0-1+cuda11.8                  amd64        TensorRT parsers libraries\r\n",
      "ii  tensorrt-dev                    8.5.0.12-1+cuda11.8               amd64        Meta package for TensorRT development libraries\r\n"
     ]
    }
   ],
   "source": [
    "!dpkg -l | grep TensorRT"
   ]
  },
  {
   "cell_type": "markdown",
   "id": "dd1be219",
   "metadata": {},
   "source": [
    "# Check if Python libaries are installed"
   ]
  },
  {
   "cell_type": "markdown",
   "id": "984577ee",
   "metadata": {},
   "source": [
    "## Pycuda"
   ]
  },
  {
   "cell_type": "code",
   "execution_count": 3,
   "id": "bff96c48",
   "metadata": {},
   "outputs": [],
   "source": [
    "import pycuda\n",
    "import pycuda.driver as cuda\n",
    "import pycuda.autoinit"
   ]
  },
  {
   "cell_type": "markdown",
   "id": "2d95a349",
   "metadata": {},
   "source": [
    "## ONNX"
   ]
  },
  {
   "cell_type": "code",
   "execution_count": 4,
   "id": "382708ed",
   "metadata": {},
   "outputs": [],
   "source": [
    "import onnx"
   ]
  },
  {
   "cell_type": "markdown",
   "id": "b84cf52d",
   "metadata": {},
   "source": [
    "## Skimage"
   ]
  },
  {
   "cell_type": "code",
   "execution_count": 5,
   "id": "02bf6dff",
   "metadata": {},
   "outputs": [],
   "source": [
    "import skimage"
   ]
  },
  {
   "cell_type": "markdown",
   "id": "2c939263",
   "metadata": {},
   "source": [
    "## Matplotlib"
   ]
  },
  {
   "cell_type": "code",
   "execution_count": 6,
   "id": "b3b1f85f",
   "metadata": {},
   "outputs": [],
   "source": [
    "from matplotlib import pyplot as plt"
   ]
  },
  {
   "cell_type": "markdown",
   "id": "eb3d7c5c",
   "metadata": {},
   "source": [
    "## Numpy"
   ]
  },
  {
   "cell_type": "code",
   "execution_count": 7,
   "id": "aed576c9",
   "metadata": {},
   "outputs": [],
   "source": [
    "import numpy as np"
   ]
  },
  {
   "cell_type": "markdown",
   "id": "bad0254b",
   "metadata": {},
   "source": [
    "## Pytorch"
   ]
  },
  {
   "cell_type": "code",
   "execution_count": 8,
   "id": "d14a7bf2",
   "metadata": {},
   "outputs": [],
   "source": [
    "import torchvision.models as models\n",
    "import torch\n",
    "import torch.onnx"
   ]
  },
  {
   "cell_type": "markdown",
   "id": "a40527b2",
   "metadata": {},
   "source": [
    "## TensorRT"
   ]
  },
  {
   "cell_type": "code",
   "execution_count": 9,
   "id": "d7984eec",
   "metadata": {},
   "outputs": [],
   "source": [
    "import tensorrt as trt"
   ]
  }
 ],
 "metadata": {
  "kernelspec": {
   "display_name": "Python 3 (ipykernel)",
   "language": "python",
   "name": "python3"
  },
  "language_info": {
   "codemirror_mode": {
    "name": "ipython",
    "version": 3
   },
   "file_extension": ".py",
   "mimetype": "text/x-python",
   "name": "python",
   "nbconvert_exporter": "python",
   "pygments_lexer": "ipython3",
   "version": "3.8.13"
  }
 },
 "nbformat": 4,
 "nbformat_minor": 5
}
