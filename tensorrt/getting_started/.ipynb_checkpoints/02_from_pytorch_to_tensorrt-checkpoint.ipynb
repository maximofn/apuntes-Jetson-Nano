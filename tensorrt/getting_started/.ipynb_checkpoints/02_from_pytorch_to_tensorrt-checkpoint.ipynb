{
 "cells": [
  {
   "cell_type": "markdown",
   "id": "419fad4e",
   "metadata": {},
   "source": [
    "# From Pytorch to TensorRT"
   ]
  },
  {
   "cell_type": "markdown",
   "id": "c03b0929",
   "metadata": {},
   "source": [
    "## Download pytorch model"
   ]
  },
  {
   "cell_type": "code",
   "execution_count": 1,
   "id": "fe479b2d",
   "metadata": {},
   "outputs": [
    {
     "name": "stderr",
     "output_type": "stream",
     "text": [
      "/root/miniconda3/lib/python3.8/site-packages/torchvision/models/_utils.py:208: UserWarning: The parameter 'pretrained' is deprecated since 0.13 and will be removed in 0.15, please use 'weights' instead.\n",
      "  warnings.warn(\n",
      "/root/miniconda3/lib/python3.8/site-packages/torchvision/models/_utils.py:223: UserWarning: Arguments other than a weight enum or `None` for 'weights' are deprecated since 0.13 and will be removed in 0.15. The current behavior is equivalent to passing `weights=ResNet50_Weights.IMAGENET1K_V1`. You can also use `weights=ResNet50_Weights.DEFAULT` to get the most up-to-date weights.\n",
      "  warnings.warn(msg)\n",
      "Downloading: \"https://download.pytorch.org/models/resnet50-0676ba61.pth\" to /root/.cache/torch/hub/checkpoints/resnet50-0676ba61.pth\n"
     ]
    }
   ],
   "source": [
    "import torchvision.models as models\n",
    "\n",
    "# load the pretrained model\n",
    "resnet50 = models.resnet50(pretrained=True, progress=False).eval()"
   ]
  },
  {
   "cell_type": "markdown",
   "id": "7330ac46",
   "metadata": {},
   "source": [
    "## Export to ONNX"
   ]
  },
  {
   "cell_type": "code",
   "execution_count": 3,
   "id": "701ec0d6",
   "metadata": {},
   "outputs": [],
   "source": [
    "import torch\n",
    "\n",
    "BATCH_SIZE=32\n",
    "\n",
    "dummy_input=torch.randn(BATCH_SIZE, 3, 224, 224)"
   ]
  },
  {
   "cell_type": "code",
   "execution_count": 4,
   "id": "7e078c9f",
   "metadata": {},
   "outputs": [],
   "source": [
    "torch.onnx.export(resnet50, dummy_input, \"resnet50_pytorch.onnx\", verbose=False)"
   ]
  },
  {
   "cell_type": "code",
   "execution_count": 6,
   "id": "f869830b",
   "metadata": {},
   "outputs": [
    {
     "name": "stdout",
     "output_type": "stream",
     "text": [
      "-rw-r--r-- 1 root root 98M Oct 19 10:47 resnet50_pytorch.onnx\r\n"
     ]
    }
   ],
   "source": [
    "!ls -lha *.onnx"
   ]
  }
 ],
 "metadata": {
  "kernelspec": {
   "display_name": "Python 3 (ipykernel)",
   "language": "python",
   "name": "python3"
  },
  "language_info": {
   "codemirror_mode": {
    "name": "ipython",
    "version": 3
   },
   "file_extension": ".py",
   "mimetype": "text/x-python",
   "name": "python",
   "nbconvert_exporter": "python",
   "pygments_lexer": "ipython3",
   "version": "3.8.13"
  }
 },
 "nbformat": 4,
 "nbformat_minor": 5
}
