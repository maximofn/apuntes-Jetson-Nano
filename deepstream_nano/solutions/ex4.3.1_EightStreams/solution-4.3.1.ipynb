{
 "cells": [
  {
   "cell_type": "markdown",
   "metadata": {},
   "source": [
    "## 4.3.1 Exercise: Eight Input Streams\n",
    "Create a new app based on `deepstream-test3-rstp-out` that can accept and tile eight video input streams. Fill in the following cells with appropriate commands to create,and run your app. To edit your files, use the JupyterLab file browser at left to navigate to the correct folder; then, double click on the file you wish to open and edit."
   ]
  },
  {
   "cell_type": "code",
   "execution_count": null,
   "metadata": {},
   "outputs": [],
   "source": [
    "# Create a new app located at $MY_APPS/dst3-eight-streams \n",
    "#      based on $DLI_APPS/deepstream-test3-rtsp_out\n",
    "!mkdir -p $MY_APPS/dst3-eight-streams\n",
    "!cp -rfv $DLI_APPS/deepstream-test3-rtsp-out/* $MY_APPS/dst3-eight-streams"
   ]
  },
  {
   "cell_type": "code",
   "execution_count": null,
   "metadata": {},
   "outputs": [],
   "source": [
    "# TODO\n",
    "# Run the app\n",
    "!cd $MY_APPS/dst3-eight-streams \\\n",
    "    && python3 deepstream_test3_rtsp_out.py -i \\\n",
    "        file://$STREAMS/sample_720p.h264 \\\n",
    "        file://$STREAMS/sample_720p.mp4 \\\n",
    "        file://$STREAMS/sample_1080p_h265.mp4 \\\n",
    "        file://$STREAMS/sample_1080p_h264.mp4 \\\n",
    "        file://$STREAMS/sample_720p.h264 \\\n",
    "        file://$STREAMS/sample_720p.mp4 \\\n",
    "        file://$STREAMS/sample_1080p_h265.mp4 \\\n",
    "        file://$STREAMS/sample_1080p_h264.mp4"
   ]
  }
 ],
 "metadata": {
  "kernelspec": {
   "display_name": "Python 3",
   "language": "python",
   "name": "python3"
  },
  "language_info": {
   "codemirror_mode": {
    "name": "ipython",
    "version": 3
   },
   "file_extension": ".py",
   "mimetype": "text/x-python",
   "name": "python",
   "nbconvert_exporter": "python",
   "pygments_lexer": "ipython3",
   "version": "3.6.9"
  }
 },
 "nbformat": 4,
 "nbformat_minor": 4
}
