{
 "cells": [
  {
   "cell_type": "markdown",
   "metadata": {
    "tags": []
   },
   "source": [
    "## 5.3.1 Exercise: Change the File Type\n",
    "Add the following enhancements:\n",
    "1. Replace the RTSP portion of the pipeline with file output elements.\n",
    "1. Instead of `mp4mux`, which saves to `.mp4` format, try the `avimux` element and save to the `.avi` format.  \n",
    "1. Alter the `parse_args()` definition to include an output file name option (as with the previous exercise).\n",
    "1. Save your output file to a file at `/dli/task/nb5_test2_out.avi`"
   ]
  },
  {
   "cell_type": "code",
   "execution_count": null,
   "metadata": {},
   "outputs": [],
   "source": [
    "# TODO\n",
    "# Create a new app located at $MY_APPS/dst2-avi-out \n",
    "#      based on $PYTHON_APPS/deepstream-test2-rtsp-out\n",
    "!mkdir -p $MY_APPS/dst2-avi-out\n",
    "!cp -rfv $DLI_APPS/deepstream-test2-rtsp-out/* $MY_APPS/dst2-avi-out\n",
    "# Rename your Python file for clarity\n",
    "!mv $MY_APPS/dst2-avi-out/deepstream_test2_rtsp_out.py \\\n",
    "    $MY_APPS/dst2-avi-out/deepstream_test2_avi_out.py"
   ]
  },
  {
   "cell_type": "markdown",
   "metadata": {},
   "source": [
    "Solution [deepstream_test2_avi_out.py](dst2-avi-out/deepstream_test2_avi_out.py) "
   ]
  },
  {
   "cell_type": "code",
   "execution_count": null,
   "metadata": {},
   "outputs": [],
   "source": [
    "#TODO\n",
    "# Check usage of your new test2 avi app with the help option\n",
    "!cd $MY_APPS/dst2-avi-out \\\n",
    "    && python3 deepstream_test2_avi_out.py --help"
   ]
  },
  {
   "cell_type": "code",
   "execution_count": null,
   "metadata": {},
   "outputs": [],
   "source": [
    "# TODO\n",
    "# Run the app\n",
    "OUTPUT_PATH_EX3 = '/dli/task/nb5_test2_out.avi'\n",
    "!cd $MY_APPS/dst2-avi-out \\\n",
    "    && python3 deepstream_test2_avi_out.py \\\n",
    "        -o $OUTPUT_PATH_EX3 \\\n",
    "        -i $STREAMS/sample_720p.h264"
   ]
  }
 ],
 "metadata": {
  "kernelspec": {
   "display_name": "Python 3",
   "language": "python",
   "name": "python3"
  },
  "language_info": {
   "codemirror_mode": {
    "name": "ipython",
    "version": 3
   },
   "file_extension": ".py",
   "mimetype": "text/x-python",
   "name": "python",
   "nbconvert_exporter": "python",
   "pygments_lexer": "ipython3",
   "version": "3.6.9"
  }
 },
 "nbformat": 4,
 "nbformat_minor": 4
}
