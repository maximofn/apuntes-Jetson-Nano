{
 "cells": [
  {
   "cell_type": "markdown",
   "metadata": {},
   "source": [
    "# Docker Ubuntu"
   ]
  },
  {
   "cell_type": "markdown",
   "metadata": {},
   "source": [
    "## Descarga de imágenes"
   ]
  },
  {
   "cell_type": "markdown",
   "metadata": {},
   "source": [
    "En la página de [contenedores docker](https://docs.nvidia.com/metropolis/deepstream/dev-guide/text/DS_docker_containers.html#a-docker-container-for-dgpu) de [deepstream getting started](https://docs.nvidia.com/metropolis/deepstream/dev-guide/text/DS_Overview.html) hay una lista con los contenedores que se pueden descargar\n",
    "\n",
    "Para descargarlos usar \n",
    "``` bash\n",
    "docker pull nvcr.io/nvidia/deepstream:6.1.1-base\n",
    "docker pull nvcr.io/nvidia/deepstream:6.1.1-devel\n",
    "docker pull nvcr.io/nvidia/deepstream:6.1.1-triton\n",
    "docker pull nvcr.io/nvidia/deepstream:6.1.1-iot\n",
    "docker pull nvcr.io/nvidia/deepstream:6.1.1-samples\n",
    "```"
   ]
  },
  {
   "cell_type": "markdown",
   "metadata": {},
   "source": [
    "## Construir una imagen"
   ]
  },
  {
   "cell_type": "markdown",
   "metadata": {},
   "source": [
    "En la página de [contenedores docker](https://docs.nvidia.com/metropolis/deepstream/dev-guide/text/DS_docker_containers.html#creating-custom-deepstream-docker-for-dgpu-using-deepstreamsdk-package) de [deepstream getting started](https://docs.nvidia.com/metropolis/deepstream/dev-guide/text/DS_Overview.html) se muestra una ejemplo de `Dockerfile` para crear una imagen."
   ]
  },
  {
   "cell_type": "markdown",
   "metadata": {},
   "source": [
    "A parte del `Dockerfile` es necesario descargarse la librería de [deepstream.deb](https://developer.nvidia.com/deepstream-6.1_6.1.1-1_amd64.deb) y dejarla en la carpeta del `Dockerfile`"
   ]
  },
  {
   "cell_type": "markdown",
   "metadata": {},
   "source": [
    "Por último compilar la imagen mediante el comando \n",
    "\n",
    "``` bash\n",
    "docker build -t deepstream:dgpu --build-arg TENSORRT_VERSION=\"8.4.1-1+cuda11.6\" --build-arg CUDNN_VERSION=\"8.4.1.50-1+cuda11.6\" --build-arg CUDA_VERSION=\"11.7.1\" .\n",
    "```"
   ]
  },
  {
   "cell_type": "markdown",
   "metadata": {},
   "source": [
    "## Desarrollar a partir de la imagen `devel`"
   ]
  },
  {
   "cell_type": "markdown",
   "metadata": {},
   "source": [
    "Crear el siguiente `Dockerfile`\n",
    "``` docker\n",
    "FROM deepstream:dgpu\n",
    "\n",
    "RUN apt-get update && \\\n",
    "        apt-get install -y \\\n",
    "        python3-pip\n",
    "```\n",
    "\n",
    "Y compilar con el comando\n",
    "``` bash\n",
    "docker build -t maximofn/deepstream61:dev .\n",
    "```\n",
    "\n",
    "Correrlo mediante el comando\n",
    "``` bash\n",
    "docker run -d --name ds -v ~/Documentos/jetsonNano/Deepstream/deepstream_python_apps:/opt/nvidia/deepstream/deepstream-6.1/deepstream_python_apps maximofn/deepstream61:dev tail -f /dev/null\n",
    "```\n",
    "\n",
    "Entrar en el mediante el comando\n",
    "``` bash\n",
    "docker exec -it ds-samples bash\n",
    "```"
   ]
  },
  {
   "cell_type": "markdown",
   "metadata": {},
   "source": []
  }
 ],
 "metadata": {
  "kernelspec": {
   "display_name": "Python 3.8.10 64-bit",
   "language": "python",
   "name": "python3"
  },
  "language_info": {
   "name": "python",
   "version": "3.8.10"
  },
  "orig_nbformat": 4,
  "vscode": {
   "interpreter": {
    "hash": "916dbcbb3f70747c44a77c7bcd40155683ae19c65e1c03b4aa3499c5328201f1"
   }
  }
 },
 "nbformat": 4,
 "nbformat_minor": 2
}
