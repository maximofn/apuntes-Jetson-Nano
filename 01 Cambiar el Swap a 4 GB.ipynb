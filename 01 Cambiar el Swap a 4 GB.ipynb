{
  "cells": [
    {
      "cell_type": "markdown",
      "source": [
        "# Cambiar el tamaño del Swap a 4 GB"
      ],
      "metadata": {}
    },
    {
      "cell_type": "markdown",
      "source": [
        "El swap es un espacio de intercambio, que bien puede ser una partición lógica en el disco o simplemente un archivo. En lugar de utilizar espacio en memoria RAM, el swap utiliza espacio en disco duro para almacenar datos temporales, reduciendo así el uso de la RAM. El conjunto combinado de memoria RAM y swap crean una memoria virtual mayor a la que trae el ordenador por defecto. Así, el Kernel de Linux puede ejecutar procesos que requieren de más memoria de la que se encuentra físicamente disponible."
      ],
      "metadata": {}
    },
    {
      "cell_type": "markdown",
      "source": [
        "--------------"
      ],
      "metadata": {}
    },
    {
      "cell_type": "markdown",
      "source": [
        "## Ver el espacio de swap"
      ],
      "metadata": {}
    },
    {
      "cell_type": "markdown",
      "source": [
        "Para ver el espacio de swap ejecutar el siguiente comando en la terminal\r\n",
        "\r\n",
        "```\r\n",
        "free -m\r\n",
        "```"
      ],
      "metadata": {}
    },
    {
      "cell_type": "markdown",
      "source": [
        "## Cambiar el tamaño de swap"
      ],
      "metadata": {}
    },
    {
      "cell_type": "markdown",
      "source": [
        "```\r\n",
        "# Disable ZRAM:\r\n",
        "sudo systemctl disable nvzramconfig\r\n",
        "\r\n",
        "# Create 4GB swap file\r\n",
        "sudo fallocate -l 4G /mnt/4GB.swap\r\n",
        "sudo chmod 600 /mnt/4GB.swap\r\n",
        "sudo mkswap /mnt/4GB.swap\r\n",
        "\r\n",
        "# Append the following line to /etc/fstab\r\n",
        "sudo su\r\n",
        "echo \"/mnt/4GB.swap swap swap defaults 0 0\" >> /etc/fstab\r\n",
        "exit\r\n",
        "```"
      ],
      "metadata": {}
    },
    {
      "cell_type": "markdown",
      "source": [
        "Reinicial la jetson, volver a ejecutar ```free -m``` y ver que ahora el espacio ded swap es de 4 GB"
      ],
      "metadata": {}
    }
  ],
  "metadata": {
    "kernelspec": {
      "name": "python3",
      "display_name": "Python 3.8.8 64-bit ('base': conda)"
    },
    "language_info": {
      "name": "python",
      "version": "3.8.8",
      "mimetype": "text/x-python",
      "codemirror_mode": {
        "name": "ipython",
        "version": 3
      },
      "pygments_lexer": "ipython3",
      "nbconvert_exporter": "python",
      "file_extension": ".py"
    },
    "interpreter": {
      "hash": "8e4d58f53b4b3ced286559ef92073773937aa87eedd0536c036fd264999b02c5"
    }
  },
  "nbformat": 4,
  "nbformat_minor": 2
}