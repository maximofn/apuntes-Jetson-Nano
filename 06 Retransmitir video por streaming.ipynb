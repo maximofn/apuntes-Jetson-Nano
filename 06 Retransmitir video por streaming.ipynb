{
  "cells": [
    {
      "cell_type": "markdown",
      "source": [
        "# Retransmitir video por streaming"
      ],
      "metadata": {}
    },
    {
      "cell_type": "markdown",
      "source": [
        "## Retransmisión de video"
      ],
      "metadata": {}
    },
    {
      "cell_type": "markdown",
      "source": [
        "Una vez dentro del Docker, o si compilamos los archivos fuente se puede mandar el vídeo a una dirección dada, por ejemplo, para mandar el video de la webcam a mi ordenador debería usar el comando\r\n",
        "\r\n",
        "```\r\n",
        "$ video-viewer /dev/video0 rtp://<remote-ip>:1234 # broadcast output stream over RTP to <remote-ip>\r\n",
        "```\r\n",
        "\r\n",
        "Como la IP de mi PC es 192.168.1.42 se convierte en \r\n",
        "\r\n",
        "```\r\n",
        "$ video-viewer /dev/video0 rtp://192.168.1.42:1234 # broadcast output stream over RTP to <remote-ip>\r\n",
        "```"
      ],
      "metadata": {}
    },
    {
      "cell_type": "markdown",
      "source": [
        "## Ver el vídeo de forma remota"
      ],
      "metadata": {}
    },
    {
      "cell_type": "markdown",
      "source": [
        "Para ver el video de forma remota hay dos opciones"
      ],
      "metadata": {}
    },
    {
      "cell_type": "markdown",
      "source": [
        "### Ver el vídeo de forma remota mediante GStreamer (mejor opción, menor latencia)"
      ],
      "metadata": {}
    },
    {
      "cell_type": "markdown",
      "source": [
        "Instalar GStreamer y ejecutar el siguiente comando\r\n",
        "\r\n",
        "```\r\n",
        "$ gst-launch-1.0 -v udpsrc port=1234 \\\r\n",
        " caps = \"application/x-rtp, media=(string)video, clock-rate=(int)90000, encoding-name=(string)H264, payload=(int)96\" ! \\\r\n",
        " rtph264depay ! decodebin ! videoconvert ! autovideosink\r\n",
        "```"
      ],
      "metadata": {}
    },
    {
      "cell_type": "markdown",
      "source": [
        "### Ver el vídeo de forma remota mediante VLC"
      ],
      "metadata": {}
    },
    {
      "cell_type": "markdown",
      "source": [
        "Crear un archivo SDP (.sdp) con el siguiente texto\r\n",
        "\r\n",
        "```\r\n",
        "c=IN IP4 127.0.0.1\r\n",
        "m=video 1234 RTP/AVP 96\r\n",
        "a=rtpmap:96 H264/90000\r\n",
        "```\r\n",
        "\r\n",
        "Guardar el archivo y hacer doble click para abrirlo, se deberá ver el video"
      ],
      "metadata": {}
    },
    {
      "cell_type": "markdown",
      "source": [
        "Para disminuir la latencia en VLC hacer como se explica en este [link](https://www.howtogeek.com/howto/windows/fix-for-vlc-skipping-and-lagging-playing-high-def-video-files/)\r\n",
        "\r\n",
        " * Ir a Tools->Preferences\r\n",
        " * Hacer click en All debajo de Show Settings en la parte de abajo\r\n",
        " * Seleccionar Input / Codecs\r\n",
        " * Bajar el valor de Network Caching (ms)"
      ],
      "metadata": {}
    }
  ],
  "metadata": {
    "kernelspec": {
      "name": "python3",
      "display_name": "Python 3.8.11 64-bit ('base': conda)"
    },
    "language_info": {
      "name": "python",
      "version": "3.8.11",
      "mimetype": "text/x-python",
      "codemirror_mode": {
        "name": "ipython",
        "version": 3
      },
      "pygments_lexer": "ipython3",
      "nbconvert_exporter": "python",
      "file_extension": ".py"
    },
    "interpreter": {
      "hash": "d1c24abb23a313e1f9ae042292cd8e6e3c60c5818227ced3d46e3df2c65171ef"
    }
  },
  "nbformat": 4,
  "nbformat_minor": 2
}